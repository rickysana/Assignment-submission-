{
 "cells": [
  {
   "cell_type": "code",
   "execution_count": 1,
   "id": "7a8f740a",
   "metadata": {},
   "outputs": [
    {
     "name": "stdout",
     "output_type": "stream",
     "text": [
      "4\n"
     ]
    }
   ],
   "source": [
    "def find_smallest_number(lst):\n",
    "    smallest = lst[0]  \n",
    "    for num in lst:\n",
    "        if num < smallest:\n",
    "            smallest = num  \n",
    "    return smallest\n",
    "\n",
    "\n",
    "list1 = [5, 7, 9, 14, 10, 20, 4]\n",
    "smallest_num = find_smallest_number(list1)\n",
    "print(smallest_num) \n"
   ]
  },
  {
   "cell_type": "code",
   "execution_count": 3,
   "id": "027a9bee",
   "metadata": {},
   "outputs": [
    {
     "name": "stdout",
     "output_type": "stream",
     "text": [
      "4\n"
     ]
    }
   ],
   "source": [
    "def find_smallest_number(lst):\n",
    "    smallest=lst[0]\n",
    "    for num in lst:\n",
    "        if num <smallest:\n",
    "            smallest=num\n",
    "    return smallest\n",
    "list=[5,7,9,14,10,20,4]\n",
    "smallest_num=find_smallest_number(list1)\n",
    "print(smallest_num)"
   ]
  },
  {
   "cell_type": "code",
   "execution_count": null,
   "id": "a0c187be",
   "metadata": {},
   "outputs": [],
   "source": []
  }
 ],
 "metadata": {
  "kernelspec": {
   "display_name": "Python 3 (ipykernel)",
   "language": "python",
   "name": "python3"
  },
  "language_info": {
   "codemirror_mode": {
    "name": "ipython",
    "version": 3
   },
   "file_extension": ".py",
   "mimetype": "text/x-python",
   "name": "python",
   "nbconvert_exporter": "python",
   "pygments_lexer": "ipython3",
   "version": "3.11.2"
  }
 },
 "nbformat": 4,
 "nbformat_minor": 5
}
