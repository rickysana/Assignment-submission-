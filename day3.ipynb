{
  "nbformat": 4,
  "nbformat_minor": 0,
  "metadata": {
    "colab": {
      "provenance": [],
      "authorship_tag": "ABX9TyPvBF0PpH3qgkS8wM3YqqXk",
      "include_colab_link": true
    },
    "kernelspec": {
      "name": "python3",
      "display_name": "Python 3"
    },
    "language_info": {
      "name": "python"
    }
  },
  "cells": [
    {
      "cell_type": "markdown",
      "metadata": {
        "id": "view-in-github",
        "colab_type": "text"
      },
      "source": [
        "<a href=\"https://colab.research.google.com/github/rickysana/Assignment-submission-/blob/main/day3.ipynb\" target=\"_parent\"><img src=\"https://colab.research.google.com/assets/colab-badge.svg\" alt=\"Open In Colab\"/></a>"
      ]
    },
    {
      "cell_type": "code",
      "execution_count": 3,
      "metadata": {
        "colab": {
          "base_uri": "https://localhost:8080/"
        },
        "id": "lU7-HWlzL6bL",
        "outputId": "b50c7137-0990-4b37-e369-f55fbc001cd8"
      },
      "outputs": [
        {
          "output_type": "stream",
          "name": "stdout",
          "text": [
            "enter the principle amount:15\n",
            "enter the time period(in year):20\n",
            "enter the interest rate(in percentage):5\n",
            "si= 15.0\n"
          ]
        }
      ],
      "source": [
        "p=float(input(\"enter the principle amount:\"))\n",
        "t=float(input(\"enter the time period(in year):\"))\n",
        "r=float(input(\"enter the interest rate(in percentage):\"))\n",
        "\n",
        "si=(p*t*r)/100\n",
        "print(\"si=\",si)"
      ]
    }
  ]
}